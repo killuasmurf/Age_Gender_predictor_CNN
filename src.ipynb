{
 "cells": [
  {
   "cell_type": "markdown",
   "id": "6101211b",
   "metadata": {},
   "source": [
    "Age and Gender Prediction"
   ]
  },
  {
   "cell_type": "code",
   "execution_count": 1,
   "id": "ef8a814e",
   "metadata": {},
   "outputs": [
    {
     "name": "stdout",
     "output_type": "stream",
     "text": [
      "['DTypePolicy', 'FloatDTypePolicy', 'Function', 'Initializer', 'Input', 'InputSpec', 'KerasTensor', 'Layer', 'Loss', 'Metric', 'Model', 'Operation', 'Optimizer', 'Quantizer', 'Regularizer', 'RematScope', 'Sequential', 'StatelessScope', 'SymbolicScope', 'Variable', '__builtins__', '__cached__', '__doc__', '__file__', '__loader__', '__name__', '__package__', '__path__', '__spec__', '__version__', '_tf_keras', 'activations', 'applications', 'backend', 'callbacks', 'config', 'constraints', 'datasets', 'device', 'distribution', 'dtype_policies', 'export', 'initializers', 'layers', 'legacy', 'losses', 'metrics', 'mixed_precision', 'models', 'name_scope', 'ops', 'optimizers', 'preprocessing', 'quantizers', 'random', 'regularizers', 'remat', 'saving', 'src', 'tree', 'utils', 'version', 'visualization', 'wrappers']\n"
     ]
    }
   ],
   "source": [
    "# import libraries\n",
    "import pandas as pd\n",
    "import numpy as np  \n",
    "import matplotlib.pyplot as plt\n",
    "import seaborn as sns\n",
    "import os\n",
    "from pathlib import Path\n",
    "from PIL import Image\n",
    "import warnings\n",
    "\n",
    "# import tensorflow and keras\n",
    "import tensorflow as tf\n",
    "import keras\n",
    "from keras import layers, models\n",
    "from tensorflow.keras.preprocessing.image import ImageDataGenerator\n",
    "from keras.preprocessing.image import img_to_array, load_img, array_to_img\n",
    "from sklearn.model_selection import train_test_split\n",
    "from keras.initializers import random_uniform, glorot_uniform, constant, identity\n",
    "from keras.layers import Dropout, Input, Add, Dense, Activation,\\\n",
    "    BatchNormalization, Flatten, Conv2D, MaxPooling2D, GlobalMaxPooling2D\n",
    "from keras.models import Model, Sequential, load_model\n",
    "print(dir(keras))\n",
    "\n"
   ]
  },
  {
   "cell_type": "markdown",
   "id": "68eb1f17",
   "metadata": {},
   "source": [
    "### 1. Load Dataset"
   ]
  },
  {
   "cell_type": "code",
   "execution_count": 2,
   "id": "2c9accca",
   "metadata": {},
   "outputs": [
    {
     "name": "stdout",
     "output_type": "stream",
     "text": [
      "Dataset URL: https://www.kaggle.com/datasets/jangedoo/utkface-new\n"
     ]
    }
   ],
   "source": [
    "from dotenv import load_dotenv\n",
    "\n",
    "load_dotenv()\n",
    "os.environ[\"KAGGLE_USERNAME\"] = os.getenv(\"KAGGLE_USERNAME\")\n",
    "os.environ[\"KAGGLE_KEY\"] = os.getenv(\"KAGGLE_KEY\")\n",
    "\n",
    "# import kaggle and download dataset\n",
    "from kaggle.api.kaggle_api_extended import KaggleApi\n",
    "\n",
    "api = KaggleApi()\n",
    "api.authenticate()\n",
    "api.dataset_download_files('jangedoo/utkface-new', path='./datasets', unzip=True)"
   ]
  },
  {
   "cell_type": "code",
   "execution_count": 3,
   "id": "87ac22cc",
   "metadata": {},
   "outputs": [
    {
     "name": "stdout",
     "output_type": "stream",
     "text": [
      "Files in ./datasets: ['crop_part1', 'UTKFace', 'utkface_aligned_cropped']\n"
     ]
    }
   ],
   "source": [
    "print(\"Files in ./datasets:\", os.listdir('./datasets'))"
   ]
  },
  {
   "cell_type": "code",
   "execution_count": 4,
   "id": "40943209",
   "metadata": {},
   "outputs": [
    {
     "name": "stdout",
     "output_type": "stream",
     "text": [
      "Total images found: 23708\n"
     ]
    }
   ],
   "source": [
    "# Path to the UTKFace dataset\n",
    "dataset_path = Path(\"datasets/UTKFace\")\n",
    "\n",
    "# Get all image filenames\n",
    "image_files = [f for f in os.listdir(dataset_path) if f.endswith('.jpg')]\n",
    "print(f\"Total images found: {len(image_files)}\")\n"
   ]
  },
  {
   "cell_type": "markdown",
   "id": "7c38189a",
   "metadata": {},
   "source": [
    "Format is given as ` _age_gender_race_timestamp.jpg `\n",
    "\n",
    "We iterate over all image files in dataset, and add to df Dataframe with columns:\n",
    "- `image_path`\n",
    "- `age`\n",
    "- `gender`"
   ]
  },
  {
   "cell_type": "code",
   "execution_count": 5,
   "id": "66b9aa66",
   "metadata": {},
   "outputs": [
    {
     "data": {
      "text/html": [
       "<div>\n",
       "<style scoped>\n",
       "    .dataframe tbody tr th:only-of-type {\n",
       "        vertical-align: middle;\n",
       "    }\n",
       "\n",
       "    .dataframe tbody tr th {\n",
       "        vertical-align: top;\n",
       "    }\n",
       "\n",
       "    .dataframe thead th {\n",
       "        text-align: right;\n",
       "    }\n",
       "</style>\n",
       "<table border=\"1\" class=\"dataframe\">\n",
       "  <thead>\n",
       "    <tr style=\"text-align: right;\">\n",
       "      <th></th>\n",
       "      <th>image_path</th>\n",
       "      <th>age</th>\n",
       "      <th>gender</th>\n",
       "    </tr>\n",
       "  </thead>\n",
       "  <tbody>\n",
       "    <tr>\n",
       "      <th>0</th>\n",
       "      <td>datasets\\UTKFace\\100_0_0_20170112213500903.jpg...</td>\n",
       "      <td>100</td>\n",
       "      <td>0</td>\n",
       "    </tr>\n",
       "    <tr>\n",
       "      <th>1</th>\n",
       "      <td>datasets\\UTKFace\\100_0_0_20170112215240346.jpg...</td>\n",
       "      <td>100</td>\n",
       "      <td>0</td>\n",
       "    </tr>\n",
       "    <tr>\n",
       "      <th>2</th>\n",
       "      <td>datasets\\UTKFace\\100_1_0_20170110183726390.jpg...</td>\n",
       "      <td>100</td>\n",
       "      <td>1</td>\n",
       "    </tr>\n",
       "    <tr>\n",
       "      <th>3</th>\n",
       "      <td>datasets\\UTKFace\\100_1_0_20170112213001988.jpg...</td>\n",
       "      <td>100</td>\n",
       "      <td>1</td>\n",
       "    </tr>\n",
       "    <tr>\n",
       "      <th>4</th>\n",
       "      <td>datasets\\UTKFace\\100_1_0_20170112213303693.jpg...</td>\n",
       "      <td>100</td>\n",
       "      <td>1</td>\n",
       "    </tr>\n",
       "  </tbody>\n",
       "</table>\n",
       "</div>"
      ],
      "text/plain": [
       "                                          image_path  age  gender\n",
       "0  datasets\\UTKFace\\100_0_0_20170112213500903.jpg...  100       0\n",
       "1  datasets\\UTKFace\\100_0_0_20170112215240346.jpg...  100       0\n",
       "2  datasets\\UTKFace\\100_1_0_20170110183726390.jpg...  100       1\n",
       "3  datasets\\UTKFace\\100_1_0_20170112213001988.jpg...  100       1\n",
       "4  datasets\\UTKFace\\100_1_0_20170112213303693.jpg...  100       1"
      ]
     },
     "execution_count": 5,
     "metadata": {},
     "output_type": "execute_result"
    }
   ],
   "source": [
    "age, gender, image_path = [], [], []\n",
    "\n",
    "for file in image_files:\n",
    "        \n",
    "    split = file.split('_')\n",
    "    if len(split) == 4:\n",
    "        image_path.append(Path(dataset_path) / file)\n",
    "        age.append(int(split[0]))\n",
    "        gender.append(int(split[1]))\n",
    "    else:\n",
    "        continue\n",
    "    \n",
    "# Create a DataFrame\n",
    "df = pd.DataFrame({\n",
    "    'image_path': image_path,\n",
    "    'age': age,\n",
    "    'gender' : gender})\n",
    "\n",
    "df.head()\n",
    "\n",
    "    "
   ]
  },
  {
   "cell_type": "markdown",
   "id": "bcf8964a",
   "metadata": {},
   "source": [
    "### 2. Data Preprocessing"
   ]
  },
  {
   "cell_type": "code",
   "execution_count": 6,
   "id": "7e60e9cd",
   "metadata": {},
   "outputs": [
    {
     "name": "stdout",
     "output_type": "stream",
     "text": [
      "<class 'pandas.core.frame.DataFrame'>\n",
      "RangeIndex: 23705 entries, 0 to 23704\n",
      "Data columns (total 3 columns):\n",
      " #   Column      Non-Null Count  Dtype \n",
      "---  ------      --------------  ----- \n",
      " 0   image_path  23705 non-null  object\n",
      " 1   age         23705 non-null  int64 \n",
      " 2   gender      23705 non-null  int64 \n",
      "dtypes: int64(2), object(1)\n",
      "memory usage: 555.7+ KB\n"
     ]
    }
   ],
   "source": [
    "df.info()"
   ]
  },
  {
   "cell_type": "markdown",
   "id": "4257a9fe",
   "metadata": {},
   "source": [
    "*Convert gender to Male and Female labels/categories*\n",
    "\n",
    "remember to comment out the labelling process so it wont convert again"
   ]
  },
  {
   "cell_type": "code",
   "execution_count": 7,
   "id": "567a42f4",
   "metadata": {},
   "outputs": [
    {
     "data": {
      "text/plain": [
       "gender\n",
       "0    12391\n",
       "1    11314\n",
       "Name: count, dtype: int64"
      ]
     },
     "execution_count": 7,
     "metadata": {},
     "output_type": "execute_result"
    }
   ],
   "source": [
    "# df['gender'] = df['gender'].map({0: 'Male', 1: 'Female'})\n",
    "\n",
    "df['gender'] = df['gender'].astype('category')\n",
    "\n",
    "df['gender'].value_counts()"
   ]
  },
  {
   "cell_type": "code",
   "execution_count": 8,
   "id": "fceae13c",
   "metadata": {},
   "outputs": [
    {
     "data": {
      "text/plain": [
       "<Axes: ylabel='Count'>"
      ]
     },
     "execution_count": 8,
     "metadata": {},
     "output_type": "execute_result"
    },
    {
     "data": {
      "image/png": "[encoded data removed]",
      "text/plain": [
       "<Figure size 640x480 with 1 Axes>"
      ]
     },
     "metadata": {},
     "output_type": "display_data"
    }
   ],
   "source": [
    "sns.histplot(data = df, x = age)"
   ]
  },
  {
   "cell_type": "markdown",
   "id": "4470f6b9",
   "metadata": {},
   "source": [
    "Gender Distribution is quite balanced. However, the age distribution is highly imbalanced and heavily skewed towards younger individuals. The histogram reveals a significant peak of data points in the 20-30 year-old range, representing the majority of the dataset. This data imbalance is a critical factor that needs to be addressed before training the CNN model.\n",
    "\n",
    "**Impact on the CNN Model:**\n",
    "\n",
    "The model is highly likely to become biased towards the heavily represented age groups (e.g., 20s and 30s). This will lead to excellent prediction accuracy for these ages but poor generalization and significant performance degradation on underrepresented age groups, particularly for older individuals. The model will struggle to accurately predict the age of individuals in these categories, often defaulting to a more common age from the training set.\n",
    "\n",
    "Hence, it is crucial to implement data balancing techniques such as oversampling the minority classes, undersampling the majority classes, or using weighted loss functions during model training."
   ]
  },
  {
   "cell_type": "markdown",
   "id": "e88e017c",
   "metadata": {},
   "source": [
    "### 3. Balancing Dataset\n",
    "\n",
    "To ensure better model generalization and avoid bias toward certain age groups, we apply two techniques to balance the dataset:\n",
    "\n",
    "1. **Age Capping**: Ages greater than 100 are capped at 100. This simplifies rare outliers and allows the model to generalize better without being skewed by very high ages.\n",
    "\n",
    "2. **Class Balancing (Age Distribution)**: We analyze the distribution of age labels and perform class balancing:\n",
    "   - **Upsample** underrepresented age groups (rare ages with few samples).\n",
    "   - **Downsample** overrepresented age groups (common ages with too many samples).\n",
    "   - This helps prevent the model from overfitting to frequent ages and improves performance on rare ones."
   ]
  },
  {
   "cell_type": "code",
   "execution_count": 9,
   "id": "69bb266a",
   "metadata": {},
   "outputs": [
    {
     "name": "stdout",
     "output_type": "stream",
     "text": [
      "0\n",
      "94\n",
      "97\n",
      "98\n",
      "age\n",
      "91       2\n",
      "93       5\n",
      "95       9\n",
      "99       9\n",
      "87      10\n",
      "      ... \n",
      "24     859\n",
      "35     880\n",
      "28     918\n",
      "1     1123\n",
      "26    2197\n",
      "Name: count, Length: 97, dtype: int64\n"
     ]
    }
   ],
   "source": [
    "# put those with age >= 100 as just 100\n",
    "df['age'] = df['age'].apply(lambda x: 100 if x >= 100 else x)\n",
    "# Step 1 is done!\n",
    "\n",
    "age_counts = df['age'].value_counts().sort_values()\n",
    "for i in range(100):\n",
    "    if i not in age_counts.index:\n",
    "        print(i)\n",
    "print(age_counts)"
   ]
  },
  {
   "cell_type": "markdown",
   "id": "6503d138",
   "metadata": {},
   "source": [
    "##### I will need to find images for 94, 97, 98 and upsample for ages 91, 94, 97, 98 until there are 5 samples each. And then downsample ages 1 and 26 to just 1k images, in order to balance the age distribution."
   ]
  },
  {
   "cell_type": "code",
   "execution_count": 10,
   "id": "bf1d0d30",
   "metadata": {},
   "outputs": [
    {
     "data": {
      "text/html": [
       "<div>\n",
       "<style scoped>\n",
       "    .dataframe tbody tr th:only-of-type {\n",
       "        vertical-align: middle;\n",
       "    }\n",
       "\n",
       "    .dataframe tbody tr th {\n",
       "        vertical-align: top;\n",
       "    }\n",
       "\n",
       "    .dataframe thead th {\n",
       "        text-align: right;\n",
       "    }\n",
       "</style>\n",
       "<table border=\"1\" class=\"dataframe\">\n",
       "  <thead>\n",
       "    <tr style=\"text-align: right;\">\n",
       "      <th></th>\n",
       "      <th>image_path</th>\n",
       "      <th>age</th>\n",
       "      <th>gender</th>\n",
       "    </tr>\n",
       "  </thead>\n",
       "  <tbody>\n",
       "    <tr>\n",
       "      <th>23703</th>\n",
       "      <td>datasets\\UTKFace\\9_1_4_20170103200814791.jpg.c...</td>\n",
       "      <td>9</td>\n",
       "      <td>1</td>\n",
       "    </tr>\n",
       "    <tr>\n",
       "      <th>23704</th>\n",
       "      <td>datasets\\UTKFace\\9_1_4_20170103213057382.jpg.c...</td>\n",
       "      <td>9</td>\n",
       "      <td>1</td>\n",
       "    </tr>\n",
       "    <tr>\n",
       "      <th>23705</th>\n",
       "      <td>UTKFace_augmented\\age_94_lady.jpg</td>\n",
       "      <td>94</td>\n",
       "      <td>1</td>\n",
       "    </tr>\n",
       "    <tr>\n",
       "      <th>23706</th>\n",
       "      <td>UTKFace_augmented\\age_97_lady.jpg</td>\n",
       "      <td>97</td>\n",
       "      <td>1</td>\n",
       "    </tr>\n",
       "    <tr>\n",
       "      <th>23707</th>\n",
       "      <td>UTKFace_augmented\\age_97_lady.jpg</td>\n",
       "      <td>98</td>\n",
       "      <td>1</td>\n",
       "    </tr>\n",
       "  </tbody>\n",
       "</table>\n",
       "</div>"
      ],
      "text/plain": [
       "                                              image_path  age  gender\n",
       "23703  datasets\\UTKFace\\9_1_4_20170103200814791.jpg.c...    9       1\n",
       "23704  datasets\\UTKFace\\9_1_4_20170103213057382.jpg.c...    9       1\n",
       "23705                  UTKFace_augmented\\age_94_lady.jpg   94       1\n",
       "23706                  UTKFace_augmented\\age_97_lady.jpg   97       1\n",
       "23707                  UTKFace_augmented\\age_97_lady.jpg   98       1"
      ]
     },
     "execution_count": 10,
     "metadata": {},
     "output_type": "execute_result"
    }
   ],
   "source": [
    "new_rows = pd.DataFrame({\n",
    "    'age': [94, 97, 98],\n",
    "    'image_path': [Path('UTKFace_augmented/age_94_lady.jpg'), Path('UTKFace_augmented/age_97_lady.jpg'), Path('UTKFace_augmented/age_97_lady.jpg')],\n",
    "    'gender': [1, 1, 1]\n",
    "})\n",
    "\n",
    "df = pd.concat([df, new_rows], ignore_index=True, sort=False)\n",
    "\n",
    "#check if the new rows are added\n",
    "df.tail()\n"
   ]
  },
  {
   "cell_type": "code",
   "execution_count": 11,
   "id": "d2839761",
   "metadata": {},
   "outputs": [],
   "source": [
    "# Image Augmentation Strategy\n",
    "datagen = ImageDataGenerator(\n",
    "    rotation_range=20,  # Randomly rotate images in the range (degrees, 0 to 180)\n",
    "    width_shift_range=0.1,  # Randomly translate images horizontally (fraction of total width)\n",
    "    height_shift_range=0.1,  # Randomly translate images vertically (fraction of total height)\n",
    "    brightness_range=[0.8, 1.2],  # Randomly change brightness\n",
    "    shear_range=0.1,  # Shear angle in counter-clockwise direction in degrees\n",
    "    zoom_range=0.1, # Randomly zoom in on images\n",
    "    horizontal_flip=True,  # Randomly flip images horizontally\n",
    "    fill_mode='nearest'\n",
    ")"
   ]
  },
  {
   "cell_type": "code",
   "execution_count": 12,
   "id": "de05dc23",
   "metadata": {},
   "outputs": [],
   "source": [
    "# Create a folder for augmented images, comment out after creating it\n",
    "# to avoid re-creating it every time\n",
    "augmented_path = Path(\"UTKFace_augmented\")\n",
    "# augmented_path.mkdir(exist_ok=True)"
   ]
  },
  {
   "cell_type": "code",
   "execution_count": 13,
   "id": "b086372e",
   "metadata": {},
   "outputs": [
    {
     "name": "stdout",
     "output_type": "stream",
     "text": [
      "                                              image_path  age  gender\n",
      "23484  datasets\\UTKFace\\91_0_1_20170117194736477.jpg....   91       0\n",
      "23485  datasets\\UTKFace\\91_1_2_20170105174644734.jpg....   91       1\n",
      "23705                  UTKFace_augmented\\age_94_lady.jpg   94       1\n",
      "23706                  UTKFace_augmented\\age_97_lady.jpg   97       1\n",
      "23707                  UTKFace_augmented\\age_97_lady.jpg   98       1\n"
     ]
    }
   ],
   "source": [
    "target_ages = [91, 94, 97, 98]\n",
    "image_size = (200, 200)\n",
    "\n",
    "subset = df[df['age'].isin(target_ages)]\n",
    "print(subset)"
   ]
  },
  {
   "cell_type": "code",
   "execution_count": 14,
   "id": "e387b3c2",
   "metadata": {},
   "outputs": [
    {
     "name": "stdout",
     "output_type": "stream",
     "text": [
      "Saved augmented image: UTKFace_augmented\\91_0_0.jpg\n",
      "Saved augmented image: UTKFace_augmented\\91_0_1.jpg\n",
      "Saved augmented image: UTKFace_augmented\\91_0_2.jpg\n",
      "Saved augmented image: UTKFace_augmented\\91_0_3.jpg\n",
      "Saved augmented image: UTKFace_augmented\\91_0_4.jpg\n",
      "Saved augmented image: UTKFace_augmented\\91_1_0.jpg\n",
      "Saved augmented image: UTKFace_augmented\\91_1_1.jpg\n",
      "Saved augmented image: UTKFace_augmented\\91_1_2.jpg\n",
      "Saved augmented image: UTKFace_augmented\\91_1_3.jpg\n",
      "Saved augmented image: UTKFace_augmented\\91_1_4.jpg\n",
      "Saved augmented image: UTKFace_augmented\\94_1_0.jpg\n",
      "Saved augmented image: UTKFace_augmented\\94_1_1.jpg\n",
      "Saved augmented image: UTKFace_augmented\\94_1_2.jpg\n",
      "Saved augmented image: UTKFace_augmented\\94_1_3.jpg\n",
      "Saved augmented image: UTKFace_augmented\\94_1_4.jpg\n",
      "Saved augmented image: UTKFace_augmented\\97_1_0.jpg\n",
      "Saved augmented image: UTKFace_augmented\\97_1_1.jpg\n",
      "Saved augmented image: UTKFace_augmented\\97_1_2.jpg\n",
      "Saved augmented image: UTKFace_augmented\\97_1_3.jpg\n",
      "Saved augmented image: UTKFace_augmented\\97_1_4.jpg\n",
      "Saved augmented image: UTKFace_augmented\\98_1_0.jpg\n",
      "Saved augmented image: UTKFace_augmented\\98_1_1.jpg\n",
      "Saved augmented image: UTKFace_augmented\\98_1_2.jpg\n",
      "Saved augmented image: UTKFace_augmented\\98_1_3.jpg\n",
      "Saved augmented image: UTKFace_augmented\\98_1_4.jpg\n"
     ]
    }
   ],
   "source": [
    "for index, row in subset.iterrows():\n",
    "    # Construct the full image path\n",
    "    if 'chip' in str(row.image_path):\n",
    "        original_img_path = Path(f\"{row.image_path}\")\n",
    "    else:\n",
    "        original_img_path = Path(f\"{row.image_path}\")\n",
    "\n",
    "    try:\n",
    "        # Load the image\n",
    "        img = Image.open(original_img_path)\n",
    "        # Convert to NumPy array and expand dimensions to create a batch (1, height, width, channels)\n",
    "        # ImageDataGenerator expects a batch of images, even if it's just one\n",
    "        img_array = np.array(img)\n",
    "        img_array = np.expand_dims(img_array, axis=0) # Add batch dimension\n",
    "\n",
    "        i = 0\n",
    "        # ➤ Starts generating new augmented versions of your original image — one at a time (batch_size=1).\n",
    "        # Use .flow() with the image array\n",
    "        for batch in datagen.flow(img_array, batch_size=1):\n",
    "            # 'batch' will be a NumPy array of shape (1, height, width, channels)\n",
    "            # Extract the single augmented image from the batch\n",
    "            augmented_image_array = batch[0]\n",
    "            \n",
    "            # Convert the NumPy array back to a PIL Image\n",
    "            augmented_image = array_to_img(augmented_image_array)\n",
    "            \n",
    "            # Save the augmented image\n",
    "            augmented_image_path = augmented_path / f\"{row.age}_{row.gender}_{i}.jpg\"\n",
    "            augmented_image.save(augmented_image_path)\n",
    "            print(f\"Saved augmented image: {augmented_image_path}\")\n",
    "            \n",
    "            # Increment the counter\n",
    "            i += 1\n",
    "            if i >= 5:  # Save 5 augmented images per original image\n",
    "                break\n",
    "    except Exception as e:\n",
    "        print(f\"Error processing {original_img_path}: {e}\")\n",
    "        continue\n",
    "    "
   ]
  },
  {
   "cell_type": "code",
   "execution_count": 15,
   "id": "08b0b974",
   "metadata": {},
   "outputs": [
    {
     "data": {
      "text/html": [
       "<div>\n",
       "<style scoped>\n",
       "    .dataframe tbody tr th:only-of-type {\n",
       "        vertical-align: middle;\n",
       "    }\n",
       "\n",
       "    .dataframe tbody tr th {\n",
       "        vertical-align: top;\n",
       "    }\n",
       "\n",
       "    .dataframe thead th {\n",
       "        text-align: right;\n",
       "    }\n",
       "</style>\n",
       "<table border=\"1\" class=\"dataframe\">\n",
       "  <thead>\n",
       "    <tr style=\"text-align: right;\">\n",
       "      <th></th>\n",
       "      <th>image_path</th>\n",
       "      <th>age</th>\n",
       "      <th>gender</th>\n",
       "    </tr>\n",
       "  </thead>\n",
       "  <tbody>\n",
       "    <tr>\n",
       "      <th>23707</th>\n",
       "      <td>UTKFace_augmented\\age_97_lady.jpg</td>\n",
       "      <td>98</td>\n",
       "      <td>1</td>\n",
       "    </tr>\n",
       "    <tr>\n",
       "      <th>23708</th>\n",
       "      <td>UTKFace_augmented\\91_0_0.jpg</td>\n",
       "      <td>91</td>\n",
       "      <td>0</td>\n",
       "    </tr>\n",
       "    <tr>\n",
       "      <th>23709</th>\n",
       "      <td>UTKFace_augmented\\91_0_1.jpg</td>\n",
       "      <td>91</td>\n",
       "      <td>0</td>\n",
       "    </tr>\n",
       "    <tr>\n",
       "      <th>23710</th>\n",
       "      <td>UTKFace_augmented\\91_0_2.jpg</td>\n",
       "      <td>91</td>\n",
       "      <td>0</td>\n",
       "    </tr>\n",
       "    <tr>\n",
       "      <th>23711</th>\n",
       "      <td>UTKFace_augmented\\91_0_3.jpg</td>\n",
       "      <td>91</td>\n",
       "      <td>0</td>\n",
       "    </tr>\n",
       "    <tr>\n",
       "      <th>23712</th>\n",
       "      <td>UTKFace_augmented\\91_0_4.jpg</td>\n",
       "      <td>91</td>\n",
       "      <td>0</td>\n",
       "    </tr>\n",
       "    <tr>\n",
       "      <th>23713</th>\n",
       "      <td>UTKFace_augmented\\91_1_0.jpg</td>\n",
       "      <td>91</td>\n",
       "      <td>1</td>\n",
       "    </tr>\n",
       "    <tr>\n",
       "      <th>23714</th>\n",
       "      <td>UTKFace_augmented\\91_1_1.jpg</td>\n",
       "      <td>91</td>\n",
       "      <td>1</td>\n",
       "    </tr>\n",
       "    <tr>\n",
       "      <th>23715</th>\n",
       "      <td>UTKFace_augmented\\91_1_2.jpg</td>\n",
       "      <td>91</td>\n",
       "      <td>1</td>\n",
       "    </tr>\n",
       "    <tr>\n",
       "      <th>23716</th>\n",
       "      <td>UTKFace_augmented\\91_1_3.jpg</td>\n",
       "      <td>91</td>\n",
       "      <td>1</td>\n",
       "    </tr>\n",
       "    <tr>\n",
       "      <th>23717</th>\n",
       "      <td>UTKFace_augmented\\91_1_4.jpg</td>\n",
       "      <td>91</td>\n",
       "      <td>1</td>\n",
       "    </tr>\n",
       "    <tr>\n",
       "      <th>23718</th>\n",
       "      <td>UTKFace_augmented\\94_1_0.jpg</td>\n",
       "      <td>94</td>\n",
       "      <td>1</td>\n",
       "    </tr>\n",
       "    <tr>\n",
       "      <th>23719</th>\n",
       "      <td>UTKFace_augmented\\94_1_1.jpg</td>\n",
       "      <td>94</td>\n",
       "      <td>1</td>\n",
       "    </tr>\n",
       "    <tr>\n",
       "      <th>23720</th>\n",
       "      <td>UTKFace_augmented\\94_1_2.jpg</td>\n",
       "      <td>94</td>\n",
       "      <td>1</td>\n",
       "    </tr>\n",
       "    <tr>\n",
       "      <th>23721</th>\n",
       "      <td>UTKFace_augmented\\94_1_3.jpg</td>\n",
       "      <td>94</td>\n",
       "      <td>1</td>\n",
       "    </tr>\n",
       "    <tr>\n",
       "      <th>23722</th>\n",
       "      <td>UTKFace_augmented\\94_1_4.jpg</td>\n",
       "      <td>94</td>\n",
       "      <td>1</td>\n",
       "    </tr>\n",
       "    <tr>\n",
       "      <th>23723</th>\n",
       "      <td>UTKFace_augmented\\97_1_0.jpg</td>\n",
       "      <td>97</td>\n",
       "      <td>1</td>\n",
       "    </tr>\n",
       "    <tr>\n",
       "      <th>23724</th>\n",
       "      <td>UTKFace_augmented\\97_1_1.jpg</td>\n",
       "      <td>97</td>\n",
       "      <td>1</td>\n",
       "    </tr>\n",
       "    <tr>\n",
       "      <th>23725</th>\n",
       "      <td>UTKFace_augmented\\97_1_2.jpg</td>\n",
       "      <td>97</td>\n",
       "      <td>1</td>\n",
       "    </tr>\n",
       "    <tr>\n",
       "      <th>23726</th>\n",
       "      <td>UTKFace_augmented\\97_1_3.jpg</td>\n",
       "      <td>97</td>\n",
       "      <td>1</td>\n",
       "    </tr>\n",
       "    <tr>\n",
       "      <th>23727</th>\n",
       "      <td>UTKFace_augmented\\97_1_4.jpg</td>\n",
       "      <td>97</td>\n",
       "      <td>1</td>\n",
       "    </tr>\n",
       "    <tr>\n",
       "      <th>23728</th>\n",
       "      <td>UTKFace_augmented\\98_1_0.jpg</td>\n",
       "      <td>98</td>\n",
       "      <td>1</td>\n",
       "    </tr>\n",
       "    <tr>\n",
       "      <th>23729</th>\n",
       "      <td>UTKFace_augmented\\98_1_1.jpg</td>\n",
       "      <td>98</td>\n",
       "      <td>1</td>\n",
       "    </tr>\n",
       "    <tr>\n",
       "      <th>23730</th>\n",
       "      <td>UTKFace_augmented\\98_1_2.jpg</td>\n",
       "      <td>98</td>\n",
       "      <td>1</td>\n",
       "    </tr>\n",
       "    <tr>\n",
       "      <th>23731</th>\n",
       "      <td>UTKFace_augmented\\98_1_3.jpg</td>\n",
       "      <td>98</td>\n",
       "      <td>1</td>\n",
       "    </tr>\n",
       "    <tr>\n",
       "      <th>23732</th>\n",
       "      <td>UTKFace_augmented\\98_1_4.jpg</td>\n",
       "      <td>98</td>\n",
       "      <td>1</td>\n",
       "    </tr>\n",
       "  </tbody>\n",
       "</table>\n",
       "</div>"
      ],
      "text/plain": [
       "                              image_path  age  gender\n",
       "23707  UTKFace_augmented\\age_97_lady.jpg   98       1\n",
       "23708       UTKFace_augmented\\91_0_0.jpg   91       0\n",
       "23709       UTKFace_augmented\\91_0_1.jpg   91       0\n",
       "23710       UTKFace_augmented\\91_0_2.jpg   91       0\n",
       "23711       UTKFace_augmented\\91_0_3.jpg   91       0\n",
       "23712       UTKFace_augmented\\91_0_4.jpg   91       0\n",
       "23713       UTKFace_augmented\\91_1_0.jpg   91       1\n",
       "23714       UTKFace_augmented\\91_1_1.jpg   91       1\n",
       "23715       UTKFace_augmented\\91_1_2.jpg   91       1\n",
       "23716       UTKFace_augmented\\91_1_3.jpg   91       1\n",
       "23717       UTKFace_augmented\\91_1_4.jpg   91       1\n",
       "23718       UTKFace_augmented\\94_1_0.jpg   94       1\n",
       "23719       UTKFace_augmented\\94_1_1.jpg   94       1\n",
       "23720       UTKFace_augmented\\94_1_2.jpg   94       1\n",
       "23721       UTKFace_augmented\\94_1_3.jpg   94       1\n",
       "23722       UTKFace_augmented\\94_1_4.jpg   94       1\n",
       "23723       UTKFace_augmented\\97_1_0.jpg   97       1\n",
       "23724       UTKFace_augmented\\97_1_1.jpg   97       1\n",
       "23725       UTKFace_augmented\\97_1_2.jpg   97       1\n",
       "23726       UTKFace_augmented\\97_1_3.jpg   97       1\n",
       "23727       UTKFace_augmented\\97_1_4.jpg   97       1\n",
       "23728       UTKFace_augmented\\98_1_0.jpg   98       1\n",
       "23729       UTKFace_augmented\\98_1_1.jpg   98       1\n",
       "23730       UTKFace_augmented\\98_1_2.jpg   98       1\n",
       "23731       UTKFace_augmented\\98_1_3.jpg   98       1\n",
       "23732       UTKFace_augmented\\98_1_4.jpg   98       1"
      ]
     },
     "execution_count": 15,
     "metadata": {},
     "output_type": "execute_result"
    }
   ],
   "source": [
    "# Get all augmented image files\n",
    "augmented_files = [f for f in os.listdir(augmented_path) if f.endswith('.jpg') and not f.startswith('age')]\n",
    "\n",
    "# Extract age and gender from filename\n",
    "augmented_data = []\n",
    "for file in augmented_files:\n",
    "    parts = file.split('_')\n",
    "    if len(parts) >= 3:\n",
    "        age = int(parts[0])\n",
    "        gender = int(parts[1])\n",
    "        image_path = augmented_path / file\n",
    "        augmented_data.append({'image_path': image_path, 'age': age, 'gender': gender})\n",
    "\n",
    "# Create DataFrame\n",
    "df_upsampled = pd.DataFrame(augmented_data)\n",
    "\n",
    "# Combine with original DataFrame\n",
    "df = pd.concat([df, df_upsampled], ignore_index=True)\n",
    "\n",
    "# Check the last 26 rows\n",
    "df.tail(26)"
   ]
  },
  {
   "cell_type": "markdown",
   "id": "aa6ebc05",
   "metadata": {},
   "source": [
    "#### Downsampling"
   ]
  },
  {
   "cell_type": "code",
   "execution_count": 16,
   "id": "59aea3ff",
   "metadata": {},
   "outputs": [
    {
     "data": {
      "text/plain": [
       "age\n",
       "93       5\n",
       "94       6\n",
       "98       6\n",
       "97       6\n",
       "99       9\n",
       "      ... \n",
       "24     859\n",
       "35     880\n",
       "28     918\n",
       "1     1000\n",
       "26    1000\n",
       "Name: count, Length: 100, dtype: int64"
      ]
     },
     "execution_count": 16,
     "metadata": {},
     "output_type": "execute_result"
    }
   ],
   "source": [
    "# Randomly downsample ages 1 and 26 to just 1k images each, removing 123 images from age 1, and 1197 images from age 26\n",
    "df_downsampled = df.copy()\n",
    "age_1 = df_downsampled[df_downsampled['age'] == 1]\n",
    "age_26 = df_downsampled[df_downsampled['age'] == 26]\n",
    "age_1_downsampled = age_1.sample(n=1000, random_state=42)\n",
    "age_26_downsampled = age_26.sample(n=1000, random_state=42)\n",
    "\n",
    "# Step 3: Filter out the original age 1 and age 26 rows from the main DataFrame\n",
    "# Use .isin() with a list for multiple conditions and ~ for negation\n",
    "df_other_ages = df_downsampled[~df_downsampled['age'].isin([1, 26])]\n",
    "\n",
    "# Step 4: Concatenate the downsampled ages with the rest of the DataFrame\n",
    "# Assuming 'subset' is another DataFrame you want to include.\n",
    "# If 'subset' is not relevant to this specific downsampling task, remove it.\n",
    "df_meow = pd.concat([df_other_ages, age_1_downsampled, age_26_downsampled])\n",
    "\n",
    "# Optional: Verify the new counts\n",
    "df_meow['age'].value_counts().sort_values()"
   ]
  },
  {
   "cell_type": "code",
   "execution_count": 17,
   "id": "ab34fdc9",
   "metadata": {},
   "outputs": [
    {
     "data": {
      "text/plain": [
       "<Axes: xlabel='age', ylabel='Count'>"
      ]
     },
     "execution_count": 17,
     "metadata": {},
     "output_type": "execute_result"
    },
    {
     "data": {
      "image/png": "[encoded data removed]",
      "text/plain": [
       "<Figure size 640x480 with 1 Axes>"
      ]
     },
     "metadata": {},
     "output_type": "display_data"
    }
   ],
   "source": [
    "sns.histplot(data = df_meow['age'])"
   ]
  },
  {
   "cell_type": "markdown",
   "id": "b65d253d",
   "metadata": {},
   "source": [
    "##### *Data is definitely more balanced than before.*"
   ]
  },
  {
   "cell_type": "code",
   "execution_count": 18,
   "id": "b6012704",
   "metadata": {},
   "outputs": [
    {
     "name": "stdout",
     "output_type": "stream",
     "text": [
      "All image paths are Path objects? True\n"
     ]
    }
   ],
   "source": [
    "# check if all rows are of Path Type for image_path column\n",
    "\n",
    "all_paths = df_meow['image_path'].apply(lambda x: isinstance(x, Path)).all()\n",
    "print(\"All image paths are Path objects?\" , all_paths)"
   ]
  },
  {
   "cell_type": "markdown",
   "id": "4f144bb3",
   "metadata": {},
   "source": [
    "### 4. Split into response and predictor\n",
    "\n",
    "##### X as predictor(images), y as response(age and gender)\n",
    "\n",
    "`img_array = img_to_array(img) / 255.0` ->  Converts the image into a NumPy array of pixel values, then divides all values by 255.0. This way, pixel values are within [0, 1] range.\n",
    "\n",
    "This helps model train better and faster, by standardising + changing from *Python List* to **Numpy Array**"
   ]
  },
  {
   "cell_type": "code",
   "execution_count": 19,
   "id": "1b329c7f",
   "metadata": {},
   "outputs": [],
   "source": [
    "image_size = (200, 200)\n",
    "X = []\n",
    "y_age = []\n",
    "y_gender = []\n",
    "\n",
    "for idx, row in df_meow.iterrows():\n",
    "    try:\n",
    "        img_path = row['image_path']\n",
    "        img = load_img(img_path, target_size=image_size)\n",
    "        img_array = img_to_array(img) / 255.0  # Normalize\n",
    "        X.append(img_array)\n",
    "        y_age.append(row['age'])\n",
    "        y_gender.append(row['gender'])\n",
    "    except Exception as e:\n",
    "        print(f\"Failed to process {str(img_path)}: {e}\") # type: ignore\n",
    "\n",
    "X = np.array(X)\n",
    "y_age = np.array(y_age)\n",
    "y_gender = np.array(y_gender)"
   ]
  },
  {
   "cell_type": "markdown",
   "id": "5d10dad8",
   "metadata": {},
   "source": [
    "### Train-test split"
   ]
  },
  {
   "cell_type": "code",
   "execution_count": 20,
   "id": "d23e64e5",
   "metadata": {},
   "outputs": [],
   "source": [
    "X_train, X_test, y_age_train, y_age_test, y_gender_train, y_gender_test = train_test_split(\n",
    "    X, y_age, y_gender, test_size=0.2, random_state=42\n",
    ")"
   ]
  },
  {
   "cell_type": "code",
   "execution_count": 21,
   "id": "32baadde",
   "metadata": {},
   "outputs": [
    {
     "name": "stdout",
     "output_type": "stream",
     "text": [
      "(17930, 200, 200, 3)\n",
      "(17930,)\n",
      "(17930,)\n"
     ]
    }
   ],
   "source": [
    "print(X_train.shape)      \n",
    "# (batch_size, height, width, channels(RGB))   \n",
    "print(y_age_train.shape)    \n",
    "print(y_gender_train.shape) "
   ]
  },
  {
   "cell_type": "markdown",
   "id": "6efeaad9",
   "metadata": {},
   "source": [
    "#### 5. Convert gender to binary categories"
   ]
  },
  {
   "cell_type": "code",
   "execution_count": 22,
   "id": "5b339388",
   "metadata": {},
   "outputs": [],
   "source": [
    "y_gender_train = tf.keras.utils.to_categorical(y_gender_train, num_classes=2)\n",
    "y_gender_test = tf.keras.utils.to_categorical(y_gender_test, num_classes=2)"
   ]
  },
  {
   "cell_type": "markdown",
   "id": "7f0c223e",
   "metadata": {},
   "source": [
    "#### 6. Build the CNN model\n",
    "\n",
    "For each convolution + pooling blocks, \n",
    "##### **Conv2D(32) → MaxPool → Conv2D(64) → MaxPool → Conv2D(128) → MaxPool**\n",
    "1) Use 32/64/128 filters of size 3x3 to detect features eg.edges, textures. Increase so that model learns more complex features.\n",
    "2) Use `padding = same` to add zero around edges of the image, so that output has same width and height as input\n",
    "3) Normalisation -> **after** `Conv2D` layers and **before** `activation`, to speed up training + reduce overfitting\n",
    "4) `activation='relu` prevents vanishing gradient problem\n",
    "- Vanishing gradient happens when the learning vanishes. In deep networks, as you go backward during training (via backpropagation), gradients can get smaller and smaller (approaching zero). Eventually, the early layers stop learning — because the gradient is nearly zero, so no weight updates happen.\n",
    "5) reduce size with `MaxPooling2D`, keeping important info while shrinking the image\n",
    "6) `Flatten` converts the 2D output into 1D so it can go into a regular dense layer\n",
    "7) `Dropout(0.5)` randomly turns off 50% of the neurons during training to prevent overfitting"
   ]
  },
  {
   "cell_type": "markdown",
   "id": "b5401ac0",
   "metadata": {},
   "source": [
    "#### 7. Compile the model\n",
    "\n",
    "> _It prepares your model for training by telling it:_\n",
    "1) _How to learn (optimizer)_   = I use `adam` since it is the best choice for beginners and most practical models\n",
    "2) _What to measure (metrics)_ \n",
    "3) _What to minimize (loss function)_"
   ]
  },
  {
   "cell_type": "code",
   "execution_count": null,
   "id": "e546982c",
   "metadata": {},
   "outputs": [
    {
     "name": "stdout",
     "output_type": "stream",
     "text": [
      "Trial 4 Complete [00h 36m 21s]\n",
      "age_output_mae: 10.682467460632324\n",
      "\n",
      "Best age_output_mae So Far: 7.927977085113525\n",
      "Total elapsed time: 02h 27m 20s\n",
      "Best learning rate: 0.001\n"
     ]
    },
    {
     "name": "stderr",
     "output_type": "stream",
     "text": [
      "c:\\Users\\Lenovo\\anaconda3\\Lib\\site-packages\\keras\\src\\saving\\saving_lib.py:802: UserWarning: Skipping variable loading for optimizer 'adam', because it has 2 variables whereas the saved optimizer has 34 variables. \n",
      "  saveable.load_own_variables(weights_store.get(inner_path))\n"
     ]
    }
   ],
   "source": [
    "from tensorflow.keras.models import Model\n",
    "from tensorflow.keras.layers import Input, Conv2D, MaxPooling2D, Flatten, Dense, Dropout, BatchNormalization\n",
    "from tensorflow.keras.optimizers import Adam\n",
    "import keras_tuner as kt\n",
    "\n",
    "def build_model(hp):\n",
    "    input_layer = Input(shape=(200, 200, 3))\n",
    "    \n",
    "    x = Conv2D(32, (3,3), padding='same')(input_layer)\n",
    "    x = BatchNormalization()(x)\n",
    "    x = Activation('relu')(x)\n",
    "    x = MaxPooling2D(2,2)(x)\n",
    "    \n",
    "    x = Conv2D(64, (3,3), padding='same')(x)\n",
    "    x = BatchNormalization()(x)\n",
    "    x = Activation('relu')(x)\n",
    "    x = MaxPooling2D(2,2)(x)\n",
    "    \n",
    "    x = Conv2D(128, (3,3), padding='same')(x)\n",
    "    x = BatchNormalization()(x)\n",
    "    x = Activation('relu')(x)\n",
    "    x = MaxPooling2D(2,2)(x)\n",
    "    \n",
    "    x = Flatten()(x)\n",
    "    x = Dropout(0.5)(x)\n",
    "    age_output = Dense(1, name='age_output')(x)\n",
    "    gender_output = Dense(2, activation='softmax', name='gender_output')(x)\n",
    "    \n",
    "    model = Model(inputs=input_layer, outputs=[age_output, gender_output])\n",
    "    lr = hp.Choice('learning_rate', [0.001, 0.005, 0.01, 0.02])\n",
    "    \n",
    "    model.compile(\n",
    "        optimizer=Adam(learning_rate=lr),\n",
    "        loss={\n",
    "            'age_output': 'mse',\n",
    "            'gender_output': 'categorical_crossentropy'\n",
    "        },\n",
    "        metrics={\n",
    "            'age_output': 'mae',\n",
    "            'gender_output': 'accuracy'\n",
    "        }\n",
    "    )\n",
    "    return model\n",
    "\n",
    "tuner = kt.RandomSearch(\n",
    "    build_model,\n",
    "    objective=kt.Objective('age_output_mae', direction='min'),\n",
    "    max_trials=10,\n",
    "    overwrite=True,\n",
    "    directory='kt_search',\n",
    "    project_name='age_gender_cnn'\n",
    ")\n",
    "\n",
    "tuner.search(X_train, {'age_output': y_age_train, 'gender_output': y_gender_train}, epochs=5, validation_split=0.1)\n",
    "\n",
    "best_model = tuner.get_best_models(num_models=1)[0]\n",
    "print('Best learning rate:', tuner.get_best_hyperparameters(1)[0].get('learning_rate'))"
   ]
  },
  {
   "cell_type": "markdown",
   "id": "d138baaf",
   "metadata": {},
   "source": [
    "#### 8. Train the model\n",
    "\n",
    "I will be using 10% of the training data to validate the model after each epoch. \n",
    "\n",
    "The model updates its weights once per image per epoch.\n",
    "Batch size = 32, so processing and updating of weights are done in batches, hence faster.\n",
    "\n",
    "> *Tensorflow auto calculates the loss (how wrong a model is), then uses backpropagation to compute gradients (tell a model how to change weights to reduce loss = gradient descent). Weights are then updated using `adam` optimiser.*\n",
    "\n",
    "##### Adam Optimiser = Adaptive Moment Estimation:\n",
    "Because it **adjusts the learning rate for each weight in the model individually**:\n",
    "\n",
    "- **Big, unstable weights** → get **smaller updates**\n",
    "- **Slow, consistent weights** → get **bigger updates**"
   ]
  },
  {
   "cell_type": "code",
   "execution_count": 25,
   "id": "859a01aa",
   "metadata": {},
   "outputs": [
    {
     "name": "stdout",
     "output_type": "stream",
     "text": [
      "Epoch 1/15\n",
      "\u001b[1m505/505\u001b[0m \u001b[32m━━━━━━━━━━━━━━━━━━━━\u001b[0m\u001b[37m\u001b[0m \u001b[1m468s\u001b[0m 902ms/step - age_output_loss: 104.4843 - age_output_mae: 7.8901 - gender_output_accuracy: 0.8646 - gender_output_loss: 0.9657 - loss: 105.4496 - val_age_output_loss: 212.2767 - val_age_output_mae: 11.1618 - val_gender_output_accuracy: 0.8561 - val_gender_output_loss: 0.7208 - val_loss: 212.9094\n",
      "Epoch 2/15\n",
      "\u001b[1m505/505\u001b[0m \u001b[32m━━━━━━━━━━━━━━━━━━━━\u001b[0m\u001b[37m\u001b[0m \u001b[1m430s\u001b[0m 851ms/step - age_output_loss: 91.7003 - age_output_mae: 7.4206 - gender_output_accuracy: 0.8847 - gender_output_loss: 0.7062 - loss: 92.4067 - val_age_output_loss: 152.2135 - val_age_output_mae: 9.2344 - val_gender_output_accuracy: 0.8661 - val_gender_output_loss: 0.7358 - val_loss: 151.2135\n",
      "Epoch 3/15\n",
      "\u001b[1m505/505\u001b[0m \u001b[32m━━━━━━━━━━━━━━━━━━━━\u001b[0m\u001b[37m\u001b[0m \u001b[1m421s\u001b[0m 834ms/step - age_output_loss: 87.6898 - age_output_mae: 7.2500 - gender_output_accuracy: 0.8966 - gender_output_loss: 0.5519 - loss: 88.2417 - val_age_output_loss: 103.3696 - val_age_output_mae: 7.8173 - val_gender_output_accuracy: 0.8723 - val_gender_output_loss: 0.6440 - val_loss: 105.5298\n",
      "Epoch 4/15\n",
      "\u001b[1m505/505\u001b[0m \u001b[32m━━━━━━━━━━━━━━━━━━━━\u001b[0m\u001b[37m\u001b[0m \u001b[1m421s\u001b[0m 833ms/step - age_output_loss: 81.5078 - age_output_mae: 6.9715 - gender_output_accuracy: 0.9008 - gender_output_loss: 0.5223 - loss: 82.0298 - val_age_output_loss: 170.6120 - val_age_output_mae: 9.9522 - val_gender_output_accuracy: 0.8689 - val_gender_output_loss: 0.6505 - val_loss: 168.6914\n",
      "Epoch 5/15\n",
      "\u001b[1m505/505\u001b[0m \u001b[32m━━━━━━━━━━━━━━━━━━━━\u001b[0m\u001b[37m\u001b[0m \u001b[1m424s\u001b[0m 839ms/step - age_output_loss: 82.0145 - age_output_mae: 6.9833 - gender_output_accuracy: 0.9061 - gender_output_loss: 0.5014 - loss: 82.5162 - val_age_output_loss: 125.1012 - val_age_output_mae: 8.3885 - val_gender_output_accuracy: 0.8762 - val_gender_output_loss: 0.6229 - val_loss: 125.8149\n",
      "Epoch 6/15\n",
      "\u001b[1m505/505\u001b[0m \u001b[32m━━━━━━━━━━━━━━━━━━━━\u001b[0m\u001b[37m\u001b[0m \u001b[1m423s\u001b[0m 837ms/step - age_output_loss: 73.5869 - age_output_mae: 6.6489 - gender_output_accuracy: 0.9141 - gender_output_loss: 0.4300 - loss: 74.0165 - val_age_output_loss: 164.5522 - val_age_output_mae: 9.7124 - val_gender_output_accuracy: 0.8689 - val_gender_output_loss: 0.6614 - val_loss: 163.6348\n",
      "Epoch 7/15\n",
      "\u001b[1m505/505\u001b[0m \u001b[32m━━━━━━━━━━━━━━━━━━━━\u001b[0m\u001b[37m\u001b[0m \u001b[1m425s\u001b[0m 841ms/step - age_output_loss: 70.4286 - age_output_mae: 6.5753 - gender_output_accuracy: 0.9182 - gender_output_loss: 0.3965 - loss: 70.8252 - val_age_output_loss: 508.6422 - val_age_output_mae: 17.6364 - val_gender_output_accuracy: 0.8344 - val_gender_output_loss: 0.8468 - val_loss: 508.3929\n",
      "Epoch 8/15\n",
      "\u001b[1m505/505\u001b[0m \u001b[32m━━━━━━━━━━━━━━━━━━━━\u001b[0m\u001b[37m\u001b[0m \u001b[1m421s\u001b[0m 834ms/step - age_output_loss: 69.0317 - age_output_mae: 6.4320 - gender_output_accuracy: 0.9188 - gender_output_loss: 0.4070 - loss: 69.4385 - val_age_output_loss: 109.2640 - val_age_output_mae: 8.1465 - val_gender_output_accuracy: 0.8812 - val_gender_output_loss: 0.5642 - val_loss: 111.5501\n",
      "Epoch 9/15\n",
      "\u001b[1m505/505\u001b[0m \u001b[32m━━━━━━━━━━━━━━━━━━━━\u001b[0m\u001b[37m\u001b[0m \u001b[1m420s\u001b[0m 831ms/step - age_output_loss: 63.5391 - age_output_mae: 6.2199 - gender_output_accuracy: 0.9258 - gender_output_loss: 0.3724 - loss: 63.9113 - val_age_output_loss: 180.6167 - val_age_output_mae: 10.1394 - val_gender_output_accuracy: 0.8946 - val_gender_output_loss: 0.5359 - val_loss: 182.2526\n",
      "Epoch 10/15\n",
      "\u001b[1m505/505\u001b[0m \u001b[32m━━━━━━━━━━━━━━━━━━━━\u001b[0m\u001b[37m\u001b[0m \u001b[1m420s\u001b[0m 832ms/step - age_output_loss: 63.7870 - age_output_mae: 6.2056 - gender_output_accuracy: 0.9249 - gender_output_loss: 0.3633 - loss: 64.1504 - val_age_output_loss: 93.8460 - val_age_output_mae: 7.4063 - val_gender_output_accuracy: 0.8868 - val_gender_output_loss: 0.6464 - val_loss: 95.6873\n",
      "Epoch 11/15\n",
      "\u001b[1m505/505\u001b[0m \u001b[32m━━━━━━━━━━━━━━━━━━━━\u001b[0m\u001b[37m\u001b[0m \u001b[1m423s\u001b[0m 838ms/step - age_output_loss: 60.3306 - age_output_mae: 6.0599 - gender_output_accuracy: 0.9294 - gender_output_loss: 0.3226 - loss: 60.6530 - val_age_output_loss: 127.7020 - val_age_output_mae: 8.5893 - val_gender_output_accuracy: 0.8327 - val_gender_output_loss: 1.1302 - val_loss: 129.3903\n",
      "Epoch 12/15\n",
      "\u001b[1m505/505\u001b[0m \u001b[32m━━━━━━━━━━━━━━━━━━━━\u001b[0m\u001b[37m\u001b[0m \u001b[1m419s\u001b[0m 829ms/step - age_output_loss: 59.6545 - age_output_mae: 5.9956 - gender_output_accuracy: 0.9358 - gender_output_loss: 0.3230 - loss: 59.9774 - val_age_output_loss: 101.9913 - val_age_output_mae: 7.6847 - val_gender_output_accuracy: 0.8723 - val_gender_output_loss: 0.9441 - val_loss: 103.9565\n",
      "Epoch 13/15\n",
      "\u001b[1m505/505\u001b[0m \u001b[32m━━━━━━━━━━━━━━━━━━━━\u001b[0m\u001b[37m\u001b[0m \u001b[1m417s\u001b[0m 825ms/step - age_output_loss: 54.2786 - age_output_mae: 5.7356 - gender_output_accuracy: 0.9401 - gender_output_loss: 0.2859 - loss: 54.5646 - val_age_output_loss: 92.5510 - val_age_output_mae: 7.4369 - val_gender_output_accuracy: 0.8901 - val_gender_output_loss: 0.6608 - val_loss: 94.7481\n",
      "Epoch 14/15\n",
      "\u001b[1m505/505\u001b[0m \u001b[32m━━━━━━━━━━━━━━━━━━━━\u001b[0m\u001b[37m\u001b[0m \u001b[1m438s\u001b[0m 868ms/step - age_output_loss: 53.8503 - age_output_mae: 5.7751 - gender_output_accuracy: 0.9376 - gender_output_loss: 0.2781 - loss: 54.1285 - val_age_output_loss: 127.4482 - val_age_output_mae: 8.4935 - val_gender_output_accuracy: 0.8890 - val_gender_output_loss: 0.6329 - val_loss: 129.2936\n",
      "Epoch 15/15\n",
      "\u001b[1m505/505\u001b[0m \u001b[32m━━━━━━━━━━━━━━━━━━━━\u001b[0m\u001b[37m\u001b[0m \u001b[1m423s\u001b[0m 838ms/step - age_output_loss: 55.1741 - age_output_mae: 5.7301 - gender_output_accuracy: 0.9458 - gender_output_loss: 0.2545 - loss: 55.4287 - val_age_output_loss: 123.0222 - val_age_output_mae: 8.4502 - val_gender_output_accuracy: 0.8795 - val_gender_output_loss: 0.6957 - val_loss: 125.4914\n"
     ]
    }
   ],
   "source": [
    "history = best_model.fit(\n",
    "    X_train, {'age_output': y_age_train, 'gender_output': y_gender_train},\n",
    "    validation_split=0.1,\n",
    "    epochs=15,\n",
    "    batch_size=32\n",
    ")"
   ]
  },
  {
   "cell_type": "markdown",
   "id": "9375e0e5",
   "metadata": {},
   "source": [
    "🟢 Age Prediction Metrics (regression)\n",
    "| Metric             | Meaning                                                   |\n",
    "| ------------------ | --------------------------------------------------------- |\n",
    "| `age_output_loss`  | Mean Squared Error (how off the predictions are, squared) |\n",
    "| `age_output_mae`   | Mean Absolute Error (average error in years)              |\n",
    "| `val_age_output_` | Same as above, but on validation set (unseen data)        |\n",
    "\n",
    "🟢 Gender Prediction Metrics (classification)\n",
    "| Metric                       | Meaning                                                      |\n",
    "| ---------------------------- | ------------------------------------------------------------ |\n",
    "| `gender_output_accuracy`     | % of genders predicted correctly on training data            |\n",
    "| `val_gender_output_accuracy` | Same for validation (unseen) data                            |\n",
    "| `gender_output_loss`         | How wrong the model was on predicting gender (cross-entropy) |\n"
   ]
  },
  {
   "cell_type": "markdown",
   "id": "ba8bddbd",
   "metadata": {},
   "source": [
    "✅ What we can conclude:\n",
    "\n",
    "1) Model is learning age and gender well\n",
    "- MAE dropped from 7.8901 → 5.7301 on training\n",
    "- Validation MAE dropped from 11.1618 → 8.4502\n",
    "\n",
    "- Gender training accuracy went from 86.46% → 94.58%\n",
    "- Validation accuracy stayed strong: ~ 86%–88%\n",
    "\n",
    "2) **No severe overfitting** - Training and validation accuracy/MAE **stay close**\n"
   ]
  },
  {
   "cell_type": "markdown",
   "id": "c68766ee",
   "metadata": {},
   "source": [
    "#### 9. Evaluate on test data"
   ]
  },
  {
   "cell_type": "code",
   "execution_count": 26,
   "id": "d50d843b",
   "metadata": {},
   "outputs": [
    {
     "name": "stdout",
     "output_type": "stream",
     "text": [
      "\u001b[1m141/141\u001b[0m \u001b[32m━━━━━━━━━━━━━━━━━━━━\u001b[0m\u001b[37m\u001b[0m \u001b[1m20s\u001b[0m 140ms/step - age_output_loss: 128.9203 - age_output_mae: 8.4384 - gender_output_accuracy: 0.8896 - gender_output_loss: 0.6463 - loss: 129.5788\n"
     ]
    },
    {
     "data": {
      "text/plain": [
       "[135.16836547851562,\n",
       " 133.61026000976562,\n",
       " 0.6954691410064697,\n",
       " 8.608955383300781,\n",
       " 0.8860138058662415]"
      ]
     },
     "execution_count": 26,
     "metadata": {},
     "output_type": "execute_result"
    }
   ],
   "source": [
    "best_model.evaluate(X_test, {'age_output': y_age_test, 'gender_output': y_gender_test})"
   ]
  },
  {
   "cell_type": "markdown",
   "id": "5be267dd",
   "metadata": {},
   "source": [
    "- 98.73,         # Total combined loss\n",
    "- 97.55,         # Age prediction loss (MSE)\n",
    "- 0.8378,        # Gender prediction loss (Cross-Entropy)\n",
    "- 7.55,          # Age prediction MAE (Mean Absolute Error)\n",
    "- 0.8784         # Gender prediction accuracy"
   ]
  },
  {
   "cell_type": "code",
   "execution_count": 28,
   "id": "a91c169c",
   "metadata": {},
   "outputs": [],
   "source": [
    "best_model.save(\"models/age_gender_model.keras\")"
   ]
  },
  {
   "cell_type": "markdown",
   "id": "2a802c39",
   "metadata": {},
   "source": [
    "#### 10. Plotting of training history\n",
    "<br> \n",
    "\n",
    "#### Training and Validation Curves"
   ]
  },
  {
   "cell_type": "code",
   "execution_count": 29,
   "id": "9aa5b399",
   "metadata": {},
   "outputs": [
    {
     "data": {
      "image/png": "[encoded data removed]",
      "text/plain": [
       "<Figure size 640x480 with 1 Axes>"
      ]
     },
     "metadata": {},
     "output_type": "display_data"
    },
    {
     "data": {
      "image/png": "[encoded data removed]",
      "text/plain": [
       "<Figure size 640x480 with 1 Axes>"
      ]
     },
     "metadata": {},
     "output_type": "display_data"
    }
   ],
   "source": [
    "# Plot Age MAE\n",
    "plt.plot(history.history['age_output_mae'], label='Age MAE (Train)')\n",
    "plt.plot(history.history['val_age_output_mae'], label='Age MAE (Val)')\n",
    "plt.title('Age Prediction: Mean Absolute Error')\n",
    "plt.xlabel('Epoch')\n",
    "plt.ylabel('MAE')\n",
    "plt.legend()\n",
    "plt.grid(True)\n",
    "plt.show()\n",
    "\n",
    "# Plot Gender Accuracy\n",
    "plt.plot(history.history['gender_output_accuracy'], label='Gender Acc (Train)')\n",
    "plt.plot(history.history['val_gender_output_accuracy'], label='Gender Acc (Val)')\n",
    "plt.title('Gender Prediction: Accuracy')\n",
    "plt.xlabel('Epoch')\n",
    "plt.ylabel('Accuracy')\n",
    "plt.legend()\n",
    "plt.grid(True)\n",
    "plt.show()\n"
   ]
  },
  {
   "cell_type": "markdown",
   "id": "c897da5d",
   "metadata": {},
   "source": [
    "#### 1. Age Prediction (Mean Absolute Error)\n",
    "\n",
    "🔵 Train MAE steadily decreased from ~7.8 to ~5.7 years, showing that my model is consistently learning from the training data.\n",
    "\n",
    "🟠 Validation MAE is more unstable, with spikes (up to ~18) around epoch 6, before settling between 7–9 years.\n",
    "\n",
    "My takeaway:\n",
    "\n",
    "- The training curve looks healthy, but the validation curve shows signs of overfitting and instability.\n",
    "\n",
    "- My model may be memorizing training examples too well while struggling to generalize to unseen data.\n",
    "\n",
    "- To improve, I could try Regularization (e.g., L2 weight decay) and more data augmentation.\n",
    "\n",
    "#### 2. Gender Prediction (Accuracy)\n",
    "\n",
    "🔵 Train Accuracy improved smoothly, reaching ~94.5%.\n",
    "\n",
    "🟠 Validation Accuracy fluctuated between 83–89%, without the same steady upward trend.\n",
    "\n",
    "My takeaway:\n",
    "\n",
    "The gap between training and validation accuracy suggests overfitting. My model performs very well on the training set but struggles to maintain stable accuracy on validation.\n",
    "\n",
    "Possible improvements: Add dropout in convolutional layers (not just at the dense layer). Tune batch size or try early stopping with patience to prevent over-training.\n",
    "\n",
    "#### ✅ Overall Reflection\n",
    "\n",
    "Age prediction has promising training results but unstable validation MAE, pointing to generalization issues.\n",
    "\n",
    "Gender prediction shows high training accuracy but fluctuating validation performance, another sign of overfitting.\n",
    "\n",
    "I’m happy with the direction my model is going (it clearly learns useful patterns), but I recognize I need to work on improving generalization so that it performs more reliably on new data."
   ]
  },
  {
   "cell_type": "markdown",
   "id": "4f3413df",
   "metadata": {},
   "source": [
    "#### 11. Age Prediction Evaluation - Predicted vs Actual Scatter Plot"
   ]
  },
  {
   "cell_type": "code",
   "execution_count": 31,
   "id": "6d676231",
   "metadata": {},
   "outputs": [
    {
     "name": "stdout",
     "output_type": "stream",
     "text": [
      "\u001b[1m141/141\u001b[0m \u001b[32m━━━━━━━━━━━━━━━━━━━━\u001b[0m\u001b[37m\u001b[0m \u001b[1m20s\u001b[0m 137ms/step\n"
     ]
    },
    {
     "data": {
      "image/png": "[encoded data removed]",
      "text/plain": [
       "<Figure size 800x600 with 1 Axes>"
      ]
     },
     "metadata": {},
     "output_type": "display_data"
    }
   ],
   "source": [
    "# Get age predictions (output 0 from the model)\n",
    "y_pred_age = best_model.predict(X_test)[0].flatten()\n",
    "\n",
    "# Plot predicted vs actual ages\n",
    "plt.figure(figsize=(8, 6))\n",
    "plt.scatter(y_age_test, y_pred_age, alpha=0.5)\n",
    "plt.plot([0, 100], [0, 100], 'r--')  # ideal line\n",
    "plt.xlabel('Actual Age')\n",
    "plt.ylabel('Predicted Age')\n",
    "plt.title('Predicted vs Actual Age')\n",
    "plt.grid(True)\n",
    "plt.show()\n"
   ]
  },
  {
   "cell_type": "markdown",
   "id": "ea747bc6",
   "metadata": {},
   "source": [
    "#### Insights:\n",
    "\n",
    "- ✅ The model **successfully captures the age distribution trend** with relatively tight clustering along the ideal red line.\n",
    "- ✅ A small mean absolute error (MAE) and this scatter pattern confirm that the model performs **reasonably well**.\n",
    "- ⚠️ - There are some outliers:\n",
    "  - A few predictions below 0 (can be fixed by clamping or using a `ReLU` in the output layer)\n",
    "  - More scatter and noise at age extremes (e.g. <10 or >80), likely due to fewer samples in those ranges.\n",
    "\n",
    "> 🎯 Overall, this visual confirms that my CNN is making **informed predictions** and not random guesses.\n"
   ]
  },
  {
   "cell_type": "markdown",
   "id": "224026c9",
   "metadata": {},
   "source": [
    "#### 12. Gender Prediction Evaluation – Classification Report"
   ]
  },
  {
   "cell_type": "code",
   "execution_count": 32,
   "id": "424c194e",
   "metadata": {},
   "outputs": [
    {
     "name": "stdout",
     "output_type": "stream",
     "text": [
      "\u001b[1m141/141\u001b[0m \u001b[32m━━━━━━━━━━━━━━━━━━━━\u001b[0m\u001b[37m\u001b[0m \u001b[1m19s\u001b[0m 137ms/step\n",
      "              precision    recall  f1-score   support\n",
      "\n",
      "        Male       0.86      0.93      0.89      2320\n",
      "      Female       0.92      0.84      0.88      2163\n",
      "\n",
      "    accuracy                           0.89      4483\n",
      "   macro avg       0.89      0.88      0.89      4483\n",
      "weighted avg       0.89      0.89      0.89      4483\n",
      "\n"
     ]
    }
   ],
   "source": [
    "from sklearn.metrics import classification_report\n",
    "import numpy as np\n",
    "\n",
    "# Get gender predictions (output 1 from the model)\n",
    "y_pred_gender = best_model.predict(X_test)[1]\n",
    "\n",
    "# Convert one-hot encoded gender back to label\n",
    "y_pred_gender_labels = np.argmax(y_pred_gender, axis=1)\n",
    "y_true_gender_labels = np.argmax(y_gender_test, axis=1)\n",
    "\n",
    "# Generate classification report\n",
    "print(classification_report(y_true_gender_labels, y_pred_gender_labels, target_names=['Male', 'Female']))"
   ]
  },
  {
   "cell_type": "markdown",
   "id": "5f4ecceb",
   "metadata": {},
   "source": [
    "| Class   | Precision | Recall | F1-score | Support | \n",
    "|---------|-----------|--------|----------|---------|\n",
    "| Definition |Out of all the times the model predicted a class, how often was it correct?| Out of all the true samples of a class, how many did the model correctly identify?|  - | - |\n",
    "| Male    | 0.86      | 0.93   | 0.89     | 2320    |\n",
    "| Female  | 0.92      | 0.84   | 0.88     | 2163    |\n",
    "\n",
    "#### Insights:\n",
    "\n",
    "- ✅ The model achieves a strong **89% overall accuracy** in gender classification.\n",
    "- ✅ It’s especially strong at identifying **Male** samples (Recall: 93%), meaning it rarely misses when a sample is male.\n",
    "- ✅ It is more precise when predicting **Female** (Precision: 92%), meaning when it says \"Female\", it's usually correct.\n",
    "\n",
    "> 🎯 This confirms that my gender prediction performs well and makes reliable predictions for both classes with balanced precision and recall.\n"
   ]
  },
  {
   "cell_type": "markdown",
   "id": "cf15e14d",
   "metadata": {},
   "source": [
    "To solve my overfitting issues:\n",
    "1) Use a joint objective in my keras tuning, and change objectives to be on validation dataset, since training accuracy will usually go up anyways.\n",
    "2) Add L2 regularization\n",
    "3) Add EarlyStoppiong\n",
    "4) Slightly increase validation split"
   ]
  },
  {
   "cell_type": "code",
   "execution_count": null,
   "id": "7558e1b6",
   "metadata": {},
   "outputs": [],
   "source": [
    "from tensorflow.keras.regularizers import l2\n",
    "\n",
    "# add l2 regularization to conv layers(2)\n",
    "def build_regularized_model(hp):\n",
    "    input_layer = Input(shape=(200, 200, 3))\n",
    "    \n",
    "    x = Conv2D(32, (3,3), padding='same', kernel_regularizer=l2(0.001))(input_layer)\n",
    "    x = BatchNormalization()(x)\n",
    "    x = Activation('relu')(x)\n",
    "    x = MaxPooling2D(2,2)(x)\n",
    "    \n",
    "    x = Conv2D(64, (3,3), padding='same', kernel_regularizer=l2(0.001))(x)\n",
    "    x = BatchNormalization()(x)\n",
    "    x = Activation('relu')(x)\n",
    "    x = MaxPooling2D(2,2)(x)\n",
    "\n",
    "    x = Conv2D(128, (3,3), padding='same', kernel_regularizer=l2(0.001))(x)\n",
    "    x = BatchNormalization()(x)\n",
    "    x = Activation('relu')(x)\n",
    "    x = MaxPooling2D(2,2)(x)\n",
    "    \n",
    "    x = Flatten()(x)\n",
    "    x = Dropout(0.5)(x)\n",
    "    age_output = Dense(1, name='age_output')(x)\n",
    "    gender_output = Dense(2, activation='softmax', name='gender_output')(x)\n",
    "    \n",
    "    model = Model(inputs=input_layer, outputs=[age_output, gender_output])\n",
    "    lr = hp.Choice('learning_rate', [0.001, 0.005, 0.01, 0.02])\n",
    "    \n",
    "    model.compile(\n",
    "        optimizer=Adam(learning_rate=lr),\n",
    "        loss={\n",
    "            'age_output': 'mse',\n",
    "            'gender_output': 'categorical_crossentropy'\n",
    "        },\n",
    "        metrics={\n",
    "            'age_output': 'mae',\n",
    "            'gender_output': 'accuracy'\n",
    "        }\n",
    "    )\n",
    "    return model\n",
    "\n",
    "# Create a tuner with joint objectives (1)\n",
    "tuner = kt.RandomSearch(\n",
    "    build_model,\n",
    "    objective= [\n",
    "        kt.Objective('val_age_output_mae', direction='min'),\n",
    "        kt.Objective('val_gender_output_accuracy', direction='max')\n",
    "    ],\n",
    "    max_trials=10,\n",
    "    overwrite=True,\n",
    "    directory='kt_search',\n",
    "    project_name='age_gender_cnn'\n",
    ")\n",
    "\n",
    "tuner.search(X_train, {'age_output': y_age_train, 'gender_output': y_gender_train}, epochs=5, validation_split=0.15)\n",
    "\n",
    "best_model = tuner.get_best_models(num_models=1)[0]\n",
    "print('Best learning rate:', tuner.get_best_hyperparameters(1)[0].get('learning_rate'))"
   ]
  },
  {
   "cell_type": "code",
   "execution_count": null,
   "id": "dd881b3d",
   "metadata": {},
   "outputs": [],
   "source": [
    "from tensorflow.keras.callbacks import EarlyStopping\n",
    "\n",
    "# Add EarlyStopping (3)\n",
    "# Stop training if validation loss doesn't improve for 4 consecutive epochs\n",
    "early_stop = EarlyStopping(\n",
    "    monitor='val_loss',      # or 'val_age_output_mae', etc.\n",
    "    patience=4,              # number of epochs with no improvement after which training will be stopped\n",
    "    restore_best_weights=True\n",
    ")\n",
    "\n",
    "history = best_model.fit(\n",
    "    X_train, {'age_output': y_age_train, 'gender_output': y_gender_train},\n",
    "    validation_split=0.15,\n",
    "    epochs=15,\n",
    "    batch_size=32,\n",
    "    callbacks=[early_stop]\n",
    ")"
   ]
  }
 ],
 "metadata": {
  "kernelspec": {
   "display_name": "base",
   "language": "python",
   "name": "python3"
  },
  "language_info": {
   "codemirror_mode": {
    "name": "ipython",
    "version": 3
   },
   "file_extension": ".py",
   "mimetype": "text/x-python",
   "name": "python",
   "nbconvert_exporter": "python",
   "pygments_lexer": "ipython3",
   "version": "3.11.7"
  }
 },
 "nbformat": 4,
 "nbformat_minor": 5
}
